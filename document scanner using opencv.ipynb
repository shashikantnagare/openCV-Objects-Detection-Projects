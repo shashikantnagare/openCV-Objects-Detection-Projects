{
 "cells": [
  {
   "cell_type": "code",
   "execution_count": 22,
   "metadata": {},
   "outputs": [
    {
     "name": "stderr",
     "output_type": "stream",
     "text": [
      "ERROR: Could not find a version that satisfies the requirement python_utlis (from versions: none)\n",
      "ERROR: No matching distribution found for python_utlis\n"
     ]
    }
   ],
   "source": [
    "!pip install python_utlis"
   ]
  },
  {
   "cell_type": "code",
   "execution_count": 9,
   "metadata": {},
   "outputs": [],
   "source": [
    "import cv2\n",
    "import numpy as np\n",
    "import python_utils"
   ]
  },
  {
   "cell_type": "code",
   "execution_count": 10,
   "metadata": {},
   "outputs": [],
   "source": [
    "webCamFeed = True\n",
    "pathImage = \"aa1.png\"\n",
    "cap =cv2.VideoCapture(1)\n",
    "cap.set(10,160)\n",
    "heightImg = 640\n",
    "widthImg =480\n"
   ]
  },
  {
   "cell_type": "code",
   "execution_count": 13,
   "metadata": {},
   "outputs": [
    {
     "ename": "NameError",
     "evalue": "name 'utlis' is not defined",
     "output_type": "error",
     "traceback": [
      "\u001b[1;31m---------------------------------------------------------------------------\u001b[0m",
      "\u001b[1;31mNameError\u001b[0m                                 Traceback (most recent call last)",
      "\u001b[1;32m<ipython-input-13-84530ec62f0c>\u001b[0m in \u001b[0;36m<module>\u001b[1;34m\u001b[0m\n\u001b[1;32m----> 1\u001b[1;33m \u001b[0mutlis\u001b[0m\u001b[1;33m.\u001b[0m\u001b[0minitializeTrackbars\u001b[0m\u001b[1;33m(\u001b[0m\u001b[1;33m)\u001b[0m\u001b[1;33m\u001b[0m\u001b[1;33m\u001b[0m\u001b[0m\n\u001b[0m\u001b[0;32m      2\u001b[0m \u001b[0mcount\u001b[0m\u001b[1;33m=\u001b[0m\u001b[1;36m0\u001b[0m\u001b[1;33m\u001b[0m\u001b[1;33m\u001b[0m\u001b[0m\n",
      "\u001b[1;31mNameError\u001b[0m: name 'utlis' is not defined"
     ]
    }
   ],
   "source": [
    "utlis.initializeTrackbars()\n",
    "count=0"
   ]
  },
  {
   "cell_type": "code",
   "execution_count": 20,
   "metadata": {},
   "outputs": [
    {
     "ename": "ModuleNotFoundError",
     "evalue": "No module named 'utlis'",
     "output_type": "error",
     "traceback": [
      "\u001b[1;31m---------------------------------------------------------------------------\u001b[0m",
      "\u001b[1;31mModuleNotFoundError\u001b[0m                       Traceback (most recent call last)",
      "\u001b[1;32m<ipython-input-20-cf88cb61d605>\u001b[0m in \u001b[0;36m<module>\u001b[1;34m\u001b[0m\n\u001b[0;32m      1\u001b[0m \u001b[1;32mimport\u001b[0m \u001b[0mcv2\u001b[0m\u001b[1;33m\u001b[0m\u001b[1;33m\u001b[0m\u001b[0m\n\u001b[0;32m      2\u001b[0m \u001b[1;32mimport\u001b[0m \u001b[0mnumpy\u001b[0m \u001b[1;32mas\u001b[0m \u001b[0mnp\u001b[0m\u001b[1;33m\u001b[0m\u001b[1;33m\u001b[0m\u001b[0m\n\u001b[1;32m----> 3\u001b[1;33m \u001b[1;32mimport\u001b[0m \u001b[0mutlis\u001b[0m\u001b[1;33m\u001b[0m\u001b[1;33m\u001b[0m\u001b[0m\n\u001b[0m\u001b[0;32m      4\u001b[0m \u001b[1;33m\u001b[0m\u001b[0m\n\u001b[0;32m      5\u001b[0m \u001b[1;33m\u001b[0m\u001b[0m\n",
      "\u001b[1;31mModuleNotFoundError\u001b[0m: No module named 'utlis'"
     ]
    }
   ],
   "source": [
    "\n",
    "import cv2\n",
    "import numpy as np\n",
    "import utlis\n",
    " \n",
    " \n",
    "########################################################################\n",
    "webCamFeed = True\n",
    "pathImage = \"1.jpg\"\n",
    "cap = cv2.VideoCapture(0)\n",
    "cap.set(10,160)\n",
    "heightImg = 640\n",
    "widthImg  = 480\n",
    "########################################################################\n",
    " \n",
    "utlis.initializeTrackbars()\n",
    "count=0\n",
    " \n",
    "while True:\n",
    " \n",
    "    if webCamFeed:success, img = cap.read()\n",
    "    else:img = cv2.imread(pathImage)\n",
    "    img = cv2.resize(img, (widthImg, heightImg)) # RESIZE IMAGE\n",
    "    imgBlank = np.zeros((heightImg,widthImg, 3), np.uint8) # CREATE A BLANK IMAGE FOR TESTING DEBUGING IF REQUIRED\n",
    "    imgGray = cv2.cvtColor(img, cv2.COLOR_BGR2GRAY) # CONVERT IMAGE TO GRAY SCALE\n",
    "    imgBlur = cv2.GaussianBlur(imgGray, (5, 5), 1) # ADD GAUSSIAN BLUR\n",
    "    thres=utlis.valTrackbars() # GET TRACK BAR VALUES FOR THRESHOLDS\n",
    "    imgThreshold = cv2.Canny(imgBlur,thres[0],thres[1]) # APPLY CANNY BLUR\n",
    "    kernel = np.ones((5, 5))\n",
    "    imgDial = cv2.dilate(imgThreshold, kernel, iterations=2) # APPLY DILATION\n",
    "    imgThreshold = cv2.erode(imgDial, kernel, iterations=1)  # APPLY EROSION\n",
    " \n",
    "    ## FIND ALL COUNTOURS\n",
    "    imgContours = img.copy() # COPY IMAGE FOR DISPLAY PURPOSES\n",
    "    imgBigContour = img.copy() # COPY IMAGE FOR DISPLAY PURPOSES\n",
    "    contours, hierarchy = cv2.findContours(imgThreshold, cv2.RETR_EXTERNAL, cv2.CHAIN_APPROX_SIMPLE) # FIND ALL CONTOURS\n",
    "    cv2.drawContours(imgContours, contours, -1, (0, 255, 0), 10) # DRAW ALL DETECTED CONTOURS\n",
    " \n",
    " \n",
    "    # FIND THE BIGGEST COUNTOUR\n",
    "    biggest, maxArea = utlis.biggestContour(contours) # FIND THE BIGGEST CONTOUR\n",
    "    if biggest.size != 0:\n",
    "        biggest=utlis.reorder(biggest)\n",
    "        cv2.drawContours(imgBigContour, biggest, -1, (0, 255, 0), 20) # DRAW THE BIGGEST CONTOUR\n",
    "        imgBigContour = utlis.drawRectangle(imgBigContour,biggest,2)\n",
    "        pts1 = np.float32(biggest) # PREPARE POINTS FOR WARP\n",
    "        pts2 = np.float32([[0, 0],[widthImg, 0], [0, heightImg],[widthImg, heightImg]]) # PREPARE POINTS FOR WARP\n",
    "        matrix = cv2.getPerspectiveTransform(pts1, pts2)\n",
    "        imgWarpColored = cv2.warpPerspective(img, matrix, (widthImg, heightImg))\n",
    " \n",
    "        #REMOVE 20 PIXELS FORM EACH SIDE\n",
    "        imgWarpColored=imgWarpColored[20:imgWarpColored.shape[0] - 20, 20:imgWarpColored.shape[1] - 20]\n",
    "        imgWarpColored = cv2.resize(imgWarpColored,(widthImg,heightImg))\n",
    " \n",
    "        # APPLY ADAPTIVE THRESHOLD\n",
    "        imgWarpGray = cv2.cvtColor(imgWarpColored,cv2.COLOR_BGR2GRAY)\n",
    "        imgAdaptiveThre= cv2.adaptiveThreshold(imgWarpGray, 255, 1, 1, 7, 2)\n",
    "        imgAdaptiveThre = cv2.bitwise_not(imgAdaptiveThre)\n",
    "        imgAdaptiveThre=cv2.medianBlur(imgAdaptiveThre,3)\n",
    " \n",
    "        # Image Array for Display\n",
    "        imageArray = ([img,imgGray,imgThreshold,imgContours],\n",
    "                      [imgBigContour,imgWarpColored, imgWarpGray,imgAdaptiveThre])\n",
    " \n",
    "    else:\n",
    "        imageArray = ([img,imgGray,imgThreshold,imgContours],\n",
    "                      [imgBlank, imgBlank, imgBlank, imgBlank])\n",
    " \n",
    "    # LABELS FOR DISPLAY\n",
    "    lables = [[\"Original\",\"Gray\",\"Threshold\",\"Contours\"],\n",
    "              [\"Biggest Contour\",\"Warp Prespective\",\"Warp Gray\",\"Adaptive Threshold\"]]\n",
    " \n",
    "    stackedImage = utlis.stackImages(imageArray,0.75,lables)\n",
    "    cv2.imshow(\"Result\",stackedImage)\n",
    " \n",
    "   "
   ]
  },
  {
   "cell_type": "code",
   "execution_count": null,
   "metadata": {},
   "outputs": [],
   "source": []
  }
 ],
 "metadata": {
  "kernelspec": {
   "display_name": "Python 3",
   "language": "python",
   "name": "python3"
  },
  "language_info": {
   "codemirror_mode": {
    "name": "ipython",
    "version": 3
   },
   "file_extension": ".py",
   "mimetype": "text/x-python",
   "name": "python",
   "nbconvert_exporter": "python",
   "pygments_lexer": "ipython3",
   "version": "3.6.12"
  }
 },
 "nbformat": 4,
 "nbformat_minor": 4
}
