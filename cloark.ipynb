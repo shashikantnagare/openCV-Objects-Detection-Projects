{
 "cells": [
  {
   "cell_type": "code",
   "execution_count": 1,
   "metadata": {},
   "outputs": [],
   "source": [
    "import cv2\n",
    "import numpy"
   ]
  },
  {
   "cell_type": "code",
   "execution_count": 2,
   "metadata": {},
   "outputs": [],
   "source": [
    "#initial function for the callin of the trackbar\n",
    "def hello(x):\n",
    "\t#only for referece\n",
    "\tprint(\"\")\n",
    "\n",
    "#initialisation of the camera\n",
    "cap = cv2.VideoCapture(0)\n",
    "bars = cv2.namedWindow(\"bars\")\n",
    "\n",
    "\n",
    "cv2.createTrackbar(\"upper_hue\",\"bars\",110,180,hello)\n",
    "cv2.createTrackbar(\"upper_saturation\",\"bars\",255, 255, hello)\n",
    "cv2.createTrackbar(\"upper_value\",\"bars\",255, 255, hello)\n",
    "cv2.createTrackbar(\"lower_hue\",\"bars\",68,180, hello)\n",
    "cv2.createTrackbar(\"lower_saturation\",\"bars\",55, 255, hello)\n",
    "cv2.createTrackbar(\"lower_value\",\"bars\",54, 255, hello)\n"
   ]
  },
  {
   "cell_type": "code",
   "execution_count": 3,
   "metadata": {},
   "outputs": [],
   "source": [
    "\n",
    "#Capturing the initial frame for creation of background\n",
    "while(True):\n",
    "    cv2.waitKey(1000)\n",
    "    ret,init_frame = cap.read()\n",
    "    #check if the frame is returned then brake\n",
    "    if(ret):break\n",
    "\n",
    "# Start capturing the frames for actual magic!!\n",
    "while(True):\n",
    "    ret,frame = cap.read()\n",
    "\tinspect = cv2.cvtColor(frame, cv2.COLOR_BGR2HSV)\n",
    "\n",
    "\t#getting the HSV values for masking the cloak\n",
    "\tupper_hue = cv2.getTrackbarPos(\"upper_hue\", \"bars\")\n",
    "\tupper_saturation = cv2.getTrackbarPos(\"upper_saturation\", \"bars\")\n",
    "\tupper_value = cv2.getTrackbarPos(\"upper_value\", \"bars\")\n",
    "\tlower_value = cv2.getTrackbarPos(\"lower_value\",\"bars\")\n",
    "\tlower_hue = cv2.getTrackbarPos(\"lower_hue\",\"bars\")\n",
    "\tlower_saturation = cv2.getTrackbarPos(\"lower_saturation\",\"bars\")\n",
    "\n",
    "\t#Kernel to be used for dilation\n",
    "\tkernel = numpy.ones((3,3),numpy.uint8)\n",
    "\n",
    "\tupper_hsv = numpy.array([upper_hue,upper_saturation,upper_value])\n",
    "\tlower_hsv = numpy.array([lower_hue,lower_saturation,lower_value])\n",
    "\n",
    "\tmask = cv2.inRange(inspect, lower_hsv, upper_hsv)\n",
    "\tmask = cv2.medianBlur(mask,3)\n",
    "\tmask_inv = 255-mask \n",
    "\tmask = cv2.dilate(mask,kernel,5)\n",
    "\t\n",
    "\t#The mixing of frames in a combination to achieve the required frame\n",
    "\tb = frame[:,:,0]\n",
    "\tg = frame[:,:,1]\n",
    "\tr = frame[:,:,2]\n",
    "\tb = cv2.bitwise_and(mask_inv, b)\n",
    "\tg = cv2.bitwise_and(mask_inv, g)\n",
    "\tr = cv2.bitwise_and(mask_inv, r)\n",
    "\tframe_inv = cv2.merge((b,g,r))\n",
    "\n",
    "\tb = init_frame[:,:,0]\n",
    "\tg = init_frame[:,:,1]\n",
    "\tr = init_frame[:,:,2]\n",
    "\tb = cv2.bitwise_and(b,mask)\n",
    "\tg = cv2.bitwise_and(g,mask)\n",
    "\tr = cv2.bitwise_and(r,mask)\n",
    "\tblanket_area = cv2.merge((b,g,r))\n",
    "\n",
    "\tfinal = cv2.bitwise_or(frame_inv, blanket_area)\n",
    "\n",
    "\tcv2.imshow(\"Harry's Cloak\",final)\n",
    "\n",
    "\tif(cv2.waitKey(3) == ord('q')):\n",
    "\t\tbreak;\n",
    "\n",
    "cv2.destroyAllWindows()\n",
    "cap.release()"
   ]
  }
 ],
 "metadata": {
  "kernelspec": {
   "display_name": "Python 3",
   "language": "python",
   "name": "python3"
  },
  "language_info": {
   "codemirror_mode": {
    "name": "ipython",
    "version": 3
   },
   "file_extension": ".py",
   "mimetype": "text/x-python",
   "name": "python",
   "nbconvert_exporter": "python",
   "pygments_lexer": "ipython3",
   "version": "3.6.12"
  }
 },
 "nbformat": 4,
 "nbformat_minor": 4
}
