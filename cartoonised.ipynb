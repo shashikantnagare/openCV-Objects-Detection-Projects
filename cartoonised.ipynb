{
 "cells": [
  {
   "cell_type": "code",
   "execution_count": 2,
   "metadata": {},
   "outputs": [],
   "source": [
    "import cv2\n",
    "import numpy as np\n",
    "\n",
    "\n",
    "#Initiating the camera\n",
    "cap= cv2.VideoCapture(0)\n",
    "\n",
    "#Infinite loop for capturing the frames\n",
    "while(True):\n",
    "\tret,img = cap.read()\n",
    "\n",
    "\t#Reshaping teh image to be fed into the kmeans data\n",
    "\tZ = img.reshape((-1,3))\n",
    "\t#Converting it to float data type\n",
    "\tZ = np.float32(Z)\n",
    "\n",
    "\t# define criteria, number of clusters(K) and apply kmeans()\n",
    "\tcriteria = (cv2.TERM_CRITERIA_EPS + cv2.TERM_CRITERIA_MAX_ITER, 3, 0.9)\n",
    "\t#Number of clusters to be defined\n",
    "\tK = 8\n",
    "\tret,label,center=cv2.kmeans(Z,K,None,criteria,2,cv2.KMEANS_RANDOM_CENTERS)\n",
    "\n",
    "\t# Now convert back into uint8, and make original image\n",
    "\tcenter = np.uint8(center)\n",
    "\tres = center[label.flatten()]\n",
    "\tres2 = res.reshape((img.shape))\n",
    "\t#increasing the intensity for brighter image\n",
    "\tres2 = res2+15\n",
    "\n",
    "\tcv2.imshow(\"Cartoonised\", res2)\n",
    "\t#Exiting the application on press of q\n",
    "\tif(cv2.waitKey(9)==ord('q')):\n",
    "\t\tbreak\n",
    "\n",
    "cap.release()\n",
    "cv2.destroyAllWindows()"
   ]
  },
  {
   "cell_type": "code",
   "execution_count": null,
   "metadata": {},
   "outputs": [],
   "source": []
  }
 ],
 "metadata": {
  "kernelspec": {
   "display_name": "Python 3",
   "language": "python",
   "name": "python3"
  },
  "language_info": {
   "codemirror_mode": {
    "name": "ipython",
    "version": 3
   },
   "file_extension": ".py",
   "mimetype": "text/x-python",
   "name": "python",
   "nbconvert_exporter": "python",
   "pygments_lexer": "ipython3",
   "version": "3.6.12"
  }
 },
 "nbformat": 4,
 "nbformat_minor": 4
}
